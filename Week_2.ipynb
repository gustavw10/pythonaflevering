{
 "cells": [
  {
   "cell_type": "markdown",
   "metadata": {},
   "source": [
    "# Week 2 handin"
   ]
  },
  {
   "cell_type": "markdown",
   "metadata": {},
   "source": [
    "## Assignment\n",
    "Here is the text for the assignment linked to"
   ]
  },
  {
   "cell_type": "markdown",
   "metadata": {},
   "source": [
    "## Status\n",
    "Mangler stadig 2 af opgaverne fra opgave 2 med utils. Alt i 1 skulle være lavet. Fil version (+ det til cli) ligger i filen Week_2_file.py. Problemer med at læse fra utils selvom funktionerne ligger der "
   ]
  },
  {
   "cell_type": "markdown",
   "metadata": {},
   "source": [
    "## Create a python file with 3 functions:"
   ]
  },
  {
   "cell_type": "code",
   "execution_count": 1,
   "metadata": {},
   "outputs": [],
   "source": [
    "# 1.1 def print_file_content(file) that can print content of a csv file to the console"
   ]
  },
  {
   "cell_type": "code",
   "execution_count": 5,
   "metadata": {},
   "outputs": [
    {
     "name": "stdout",
     "output_type": "stream",
     "text": [
      "['year', 'roll', 'unem', 'hgrad', 'inc']\n",
      "2 ['1', '5501', '8.1', '9552', '1923']\n",
      "3 ['2', '5945', '7', '9680', '1961']\n",
      "4 ['3', '6629', '7.3', '9731', '1979']\n",
      "5 ['4', '7556', '7.5', '11666', '2030']\n",
      "6 ['5', '8716', '7', '14675', '2112']\n",
      "7 ['6', '9369', '6.4', '15265', '2192']\n",
      "8 ['7', '9920', '6.5', '15484', '2235']\n",
      "9 ['8', '10167', '6.4', '15723', '2351']\n",
      "10 ['9', '11084', '6.3', '16501', '2411']\n",
      "11 ['10', '12504', '7.7', '16890', '2475']\n"
     ]
    }
   ],
   "source": [
    "import csv\n",
    "\n",
    "filename = 'enrollment_forecast.csv'\n",
    "\n",
    "def print_file_content(file):\n",
    "    \n",
    "    with open(file) as f:\n",
    "        reader = csv.reader(f)\n",
    "        header_row = next(reader)\n",
    "        print(header_row)\n",
    "        \n",
    "        for row in reader:\n",
    "            print(str(reader.line_num) + ' ' + str(row))\n",
    "\n",
    "            if reader.line_num > 10:\n",
    "                break    \n",
    "        \n",
    "print_file_content(filename)"
   ]
  },
  {
   "cell_type": "code",
   "execution_count": null,
   "metadata": {},
   "outputs": [],
   "source": [
    "# 1.2 def write_list_to_file(output_file, lst) that can take a list of tuple and write each element to a new line in file"
   ]
  },
  {
   "cell_type": "code",
   "execution_count": 30,
   "metadata": {},
   "outputs": [],
   "source": [
    "import csv\n",
    "import platform\n",
    "\n",
    "my_list = [(\"ek\", \"1\", \"comment\"), (\"ek2\", \"2\", \"some comment\"), (\"ek3\", \"3\", \"some comment\")]\n",
    "output_file = 'output.csv'\n",
    "\n",
    "def write_list_to_file(output_file, lst):\n",
    "    if platform.system() == 'Windows':\n",
    "        newline=''\n",
    "    else:\n",
    "        newline=None\n",
    "    \n",
    "    with open(output_file, 'w', newline=newline) as output_file:\n",
    "        output_writer = csv.writer(output_file)\n",
    "    \n",
    "        for element in lst:\n",
    "            output_writer.writerow([element[0], element[1], element[2]])\n",
    "            \n",
    "write_list_to_file(output_file, my_list)"
   ]
  },
  {
   "cell_type": "code",
   "execution_count": null,
   "metadata": {},
   "outputs": [],
   "source": [
    "# 1.3 def read_csv(input_file) that take a csv file and read each row into a list"
   ]
  },
  {
   "cell_type": "code",
   "execution_count": 44,
   "metadata": {},
   "outputs": [
    {
     "name": "stdout",
     "output_type": "stream",
     "text": [
      "[['1', '5501', '8.1', '9552', '1923'], ['2', '5945', '7', '9680', '1961'], ['3', '6629', '7.3', '9731', '1979'], ['4', '7556', '7.5', '11666', '2030'], ['5', '8716', '7', '14675', '2112'], ['6', '9369', '6.4', '15265', '2192'], ['7', '9920', '6.5', '15484', '2235'], ['8', '10167', '6.4', '15723', '2351'], ['9', '11084', '6.3', '16501', '2411'], ['10', '12504', '7.7', '16890', '2475'], ['11', '13746', '8.2', '17203', '2524'], ['12', '13656', '7.5', '17707', '2674'], ['13', '13850', '7.4', '18108', '2833'], ['14', '14145', '8.2', '18266', '2863'], ['15', '14888', '10.1', '19308', '2839'], ['16', '14991', '9.2', '18224', '2898'], ['17', '14836', '7.7', '18997', '3123'], ['18', '14478', '5.7', '19505', '3195'], ['19', '14539', '6.5', '19800', '3239'], ['20', '14395', '7.5', '19546', '3129'], ['21', '14599', '7.3', '19117', '3100'], ['22', '14969', '9.2', '18774', '3008'], ['23', '15107', '10.1', '17813', '2983'], ['24', '14831', '7.5', '17304', '3069'], ['25', '15081', '8.8', '16756', '3151'], ['26', '15127', '9.1', '16749', '3127'], ['27', '15856', '8.8', '16925', '3179'], ['28', '15938', '7.8', '17231', '3207'], ['29', '16081', '7', '16816', '3345']]\n"
     ]
    }
   ],
   "source": [
    "a_list = []\n",
    "\n",
    "filename = 'enrollment_forecast.csv'\n",
    "\n",
    "def read_csv(input_file):\n",
    "\n",
    "    with open(input_file) as f:\n",
    "        reader = csv.reader(f)\n",
    "        header_row = next(reader)\n",
    "\n",
    "        for row in reader:\n",
    "            a_list.append(row)\n",
    "        \n",
    "    print(a_list)\n",
    "\n",
    "read_csv(filename)"
   ]
  },
  {
   "cell_type": "markdown",
   "metadata": {},
   "source": [
    "## Create a module called utils.py with the following 5 functions:"
   ]
  },
  {
   "cell_type": "code",
   "execution_count": 48,
   "metadata": {},
   "outputs": [],
   "source": [
    "import utils\n",
    "\n",
    "utils.get_file_names(\"/home/jovyan/python_handin_template\")\n",
    "\n",
    "#virker men fungerer ikke i \n",
    "#utils.print_line_one([\"output.txt\", \"outputForTest.txt\"])"
   ]
  },
  {
   "cell_type": "code",
   "execution_count": null,
   "metadata": {},
   "outputs": [],
   "source": []
  },
  {
   "cell_type": "code",
   "execution_count": null,
   "metadata": {},
   "outputs": [],
   "source": []
  }
 ],
 "metadata": {
  "kernelspec": {
   "display_name": "Python 3",
   "language": "python",
   "name": "python3"
  },
  "language_info": {
   "codemirror_mode": {
    "name": "ipython",
    "version": 3
   },
   "file_extension": ".py",
   "mimetype": "text/x-python",
   "name": "python",
   "nbconvert_exporter": "python",
   "pygments_lexer": "ipython3",
   "version": "3.7.6"
  }
 },
 "nbformat": 4,
 "nbformat_minor": 4
}
