{
 "cells": [
  {
   "cell_type": "markdown",
   "id": "sophisticated-connecticut",
   "metadata": {},
   "source": [
    "## Assignment\n",
    "## Exercise 1\n",
    "Tilgå https://www.dba.dk/ og find alle links på siden ved hjælp af BeautifulSoup og gem dem i en liste.\n",
    "\n",
    "## Exercise 2\n",
    "Brug pandas til at oprette et dataframe, som du lægger linksne i.\n",
    "Opret et sql table og læg dataframet deri.\n",
    "## Exercise 3\n",
    "Brug flask til at hive dataen fra databasen ud på en side (hint: GET request).\n",
    "Lav en post metode, til at indsætte ny data i tabellen."
   ]
  },
  {
   "cell_type": "code",
   "execution_count": null,
   "id": "natural-junior",
   "metadata": {},
   "outputs": [],
   "source": [
    "import requests\n",
    "from bs4 import BeautifulSoup\n",
    "url = 'https://www.dba.dk/'\n",
    "req = requests.get(url, headers={'User-Agent': 'Mozilla/5.0'})\n",
    "soup = BeautifulSoup(req.text, 'html.parser')\n",
    "linkList = []\n",
    "for link in soup.find_all('a'):\n",
    "    if not link.get('href').startswith('http'):\n",
    "        continue\n",
    "    linkList.append(link.get('href'))\n",
    "\n",
    "    print(linkList)"
   ]
  },
  {
   "cell_type": "code",
   "execution_count": null,
   "id": "alike-approach",
   "metadata": {},
   "outputs": [],
   "source": [
    "#Exercise 2\n",
    "import pandas as pd\n",
    "import mysql.connector as mysql\n",
    "from sqlalchemy import create_engine #sqlalchemy helped convert strings to dates seamlessly\n",
    "import mysql.connector as mysql\n",
    "\n",
    "con_str = \"mysql+mysqlconnector://root:root@db/db\"\n",
    "engine = create_engine(con_str)\n",
    "df = pd.DataFrame({'Links': linkList})\n",
    "df = df.applymap(str)\n",
    "df.to_sql('linksdemo',con=engine, if_exists='append', index = False)\n",
    "\n",
    "df"
   ]
  },
  {
   "cell_type": "code",
   "execution_count": null,
   "id": "dutch-airport",
   "metadata": {},
   "outputs": [],
   "source": [
    "#Se week8flask.py for løsning på exercise 3\n",
    "import week8flask as dlink\n",
    "\n",
    "dlink.create_link('https://www.hejhejhej.dk')"
   ]
  }
 ],
 "metadata": {
  "kernelspec": {
   "display_name": "Python 3",
   "language": "python",
   "name": "python3"
  },
  "language_info": {
   "codemirror_mode": {
    "name": "ipython",
    "version": 3
   },
   "file_extension": ".py",
   "mimetype": "text/x-python",
   "name": "python",
   "nbconvert_exporter": "python",
   "pygments_lexer": "ipython3",
   "version": "3.9.1"
  }
 },
 "nbformat": 4,
 "nbformat_minor": 5
}
