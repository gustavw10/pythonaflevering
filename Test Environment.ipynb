{
 "cells": [
  {
   "cell_type": "code",
   "execution_count": 1,
   "metadata": {},
   "outputs": [
    {
     "name": "stdout",
     "output_type": "stream",
     "text": [
      "match\n",
      "match\n",
      "match\n",
      "match\n",
      "match\n",
      "match\n",
      "match\n",
      "match\n",
      "match\n",
      "match\n",
      "match\n",
      "match\n",
      "match\n",
      "match\n",
      "match\n",
      "match\n",
      "match\n",
      "match\n",
      "match\n",
      "match\n",
      "match\n",
      "match\n",
      "match\n",
      "match\n",
      "match\n",
      "match\n",
      "match\n",
      "match\n",
      "match\n",
      "match\n",
      "match\n",
      "match\n",
      "match\n",
      "match\n",
      "match\n",
      "match\n",
      "match\n",
      "match\n",
      "match\n",
      "match\n"
     ]
    }
   ],
   "source": [
    "from Week_3_file import Student, DataSheet, Course, createStudents, readStudents, readStudentsImprov\n",
    "\n",
    "\n",
    "\n",
    "#createStudents(5)\n",
    "\n",
    "#readStudents()\n",
    "\n",
    "\n",
    "li = readStudentsImprov()\n",
    "\n",
    "#for i in li:\n",
    "#    print(i.name)\n",
    "#    print(\"--------------------------------------------------\")\n",
    "#    for e in i.datasheet.courses:\n",
    "#        print(e.name)\n",
    "#    print(\"-----------------end\")"
   ]
  },
  {
   "cell_type": "code",
   "execution_count": null,
   "metadata": {},
   "outputs": [],
   "source": []
  },
  {
   "cell_type": "raw",
   "metadata": {},
   "source": []
  }
 ],
 "metadata": {
  "kernelspec": {
   "display_name": "Python 3",
   "language": "python",
   "name": "python3"
  },
  "language_info": {
   "codemirror_mode": {
    "name": "ipython",
    "version": 3
   },
   "file_extension": ".py",
   "mimetype": "text/x-python",
   "name": "python",
   "nbconvert_exporter": "python",
   "pygments_lexer": "ipython3",
   "version": "3.7.6"
  }
 },
 "nbformat": 4,
 "nbformat_minor": 4
}
