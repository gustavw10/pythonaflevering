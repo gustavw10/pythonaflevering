{
 "cells": [
  {
   "cell_type": "markdown",
   "metadata": {},
   "source": [
    "\n",
    "## Exercise meanshift\n",
    "1. load 'data/iris_data.csv' into a dataframe (use decimal=',') and remove the 2 `Petal` columns. Now we are left with a 2D feature space\n",
    "2. get unique labels (Species column)\n",
    "3. plot with a scatter plot each iris flower sample colored by label (3 different colors)\n",
    "4. use: `MeanShift` and `estimate_bandwidth` from `sklearn.cluster` to first estimate bandwidth and then get the clusters (HINT: estimate_bandwidth() takes an argument: `quantile` set it to `0.2` for best result)\n",
    "5. print out labels, cluster centers and number of clusters (as returned from the MeanShift function)\n",
    "5. create a new scatter plot where each flower is colored according to cluster label\n",
    "6. add a dot for the cluster centers\n",
    "7. Compare the 2 plots (colored by actual labels vs. colored by cluster label)\n",
    "8. Try changing the 'quantile' argument to 0.15 and see what happens to your cluster plot.\n",
    "\n",
    "\n",
    "## 1 & 2 )"
   ]
  },
  {
   "cell_type": "code",
   "execution_count": 1,
   "metadata": {},
   "outputs": [
    {
     "name": "stdout",
     "output_type": "stream",
     "text": [
      "     Sepal length  Sepal width  Petal width       Species\n",
      "0             5.1          3.5          0.2     I. setosa\n",
      "1             4.9          3.0          0.2     I. setosa\n",
      "2             4.7          3.2          0.2     I. setosa\n",
      "3             4.6          3.1          0.2     I. setosa\n",
      "4             5.0          3.6          0.2     I. setosa\n",
      "..            ...          ...          ...           ...\n",
      "145           6.7          3.0          2.3  I. virginica\n",
      "146           6.3          2.5          1.9  I. virginica\n",
      "147           6.5          3.0          2.0  I. virginica\n",
      "148           6.2          3.4          2.3  I. virginica\n",
      "149           5.9          3.0          1.8  I. virginica\n",
      "\n",
      "[150 rows x 4 columns]\n"
     ]
    }
   ],
   "source": [
    "import pandas as pd\n",
    "\n",
    "imported = pd.read_csv('../data/iris_data.csv',decimal=',')\n",
    "df = pd.DataFrame(imported)\n",
    "df.drop(['Petal length'],'columns',inplace=True)\n",
    "print(df)"
   ]
  },
  {
   "cell_type": "markdown",
   "metadata": {},
   "source": [
    "## 3 ) "
   ]
  },
  {
   "cell_type": "code",
   "execution_count": 5,
   "metadata": {},
   "outputs": [
    {
     "name": "stdout",
     "output_type": "stream",
     "text": [
      "     Sepal length  Sepal width  Petal width  Species\n",
      "0             5.1          3.5          0.2        0\n",
      "1             4.9          3.0          0.2        0\n",
      "2             4.7          3.2          0.2        0\n",
      "3             4.6          3.1          0.2        0\n",
      "4             5.0          3.6          0.2        0\n",
      "..            ...          ...          ...      ...\n",
      "145           6.7          3.0          2.3        2\n",
      "146           6.3          2.5          1.9        2\n",
      "147           6.5          3.0          2.0        2\n",
      "148           6.2          3.4          2.3        2\n",
      "149           5.9          3.0          1.8        2\n",
      "\n",
      "[150 rows x 4 columns]\n"
     ]
    }
   ],
   "source": [
    "from sklearn import preprocessing\n",
    "# Convert gender to 0 or 1\n",
    "label_enc =preprocessing.LabelEncoder()\n",
    "df['Species'] = label_enc.fit_transform(df['Species'].astype(str))\n",
    "print(df)"
   ]
  },
  {
   "cell_type": "code",
   "execution_count": 6,
   "metadata": {},
   "outputs": [
    {
     "name": "stdout",
     "output_type": "stream",
     "text": [
      "[0 1 2]\n"
     ]
    },
    {
     "data": {
      "image/png": "[encoded data removed]",
      "text/plain": [
       "<Figure size 432x288 with 1 Axes>"
      ]
     },
     "metadata": {
      "needs_background": "light"
     },
     "output_type": "display_data"
    }
   ],
   "source": [
    "import matplotlib.pyplot as plt\n",
    "from itertools import cycle\n",
    "import numpy as np\n",
    "\n",
    "fig = plt.figure()\n",
    "\n",
    "clusters = np.unique(df['Species'])\n",
    "print(clusters)\n",
    "\n",
    "colors = cycle('bgrcmy')\n",
    "for k, col in zip(clusters, colors):\n",
    "    \n",
    "    #tager hvor labels 0 1 eller 2 og laver til en mask\n",
    "    filtered_by_species = (df['Species'] == k)\n",
    "    \n",
    "    plt.scatter(df['Sepal length'][filtered_by_species], df['Sepal width'][filtered_by_species], color=col)"
   ]
  },
  {
   "cell_type": "markdown",
   "metadata": {},
   "source": [
    "## 4 & 5 ) "
   ]
  },
  {
   "cell_type": "code",
   "execution_count": 27,
   "metadata": {},
   "outputs": [
    {
     "name": "stdout",
     "output_type": "stream",
     "text": [
      "[0 0 0 0 0 0 0 0 0 0 0 0 0 0 0 0 0 0 0 0 0 0 0 0 0 0 0 0 0 0 0 0 0 0 0 0 0\n",
      " 0 0 0 0 0 0 0 0 0 0 0 0 0 1 1 1 1 1 1 1 1 1 1 1 1 1 1 1 1 1 1 1 1 1 1 1 1\n",
      " 1 1 1 1 1 1 1 1 1 1 1 1 1 1 1 1 1 1 1 1 1 1 1 1 1 1 2 2 2 2 2 2 1 2 2 2 2\n",
      " 2 2 2 2 2 2 2 2 2 2 2 2 2 2 2 2 2 2 2 2 2 2 2 2 2 2 2 2 2 2 2 2 2 2 2 2 2\n",
      " 2 2]\n",
      "[[4.95777778 3.39333333 0.24222222 0.        ]\n",
      " [5.9        2.775      1.3325     1.        ]\n",
      " [6.37567568 2.95945946 2.04324324 2.        ]]\n",
      "3\n"
     ]
    }
   ],
   "source": [
    "from sklearn.cluster import MeanShift, estimate_bandwidth\n",
    "\n",
    "bandwidth = estimate_bandwidth(df, quantile=0.2)\n",
    "ms = MeanShift(bandwidth=bandwidth, bin_seeding=True)\n",
    "ms.fit(df)\n",
    "labels = ms.labels_\n",
    "cluster_centers = ms.cluster_centers_\n",
    "labels_unique = np.unique(labels)\n",
    "n_clusters = len(labels_unique)\n",
    "\n",
    "print(labels)\n",
    "print(cluster_centers)\n",
    "print(n_clusters)"
   ]
  },
  {
   "cell_type": "markdown",
   "metadata": {},
   "source": [
    "## 6 ) "
   ]
  },
  {
   "cell_type": "code",
   "execution_count": 42,
   "metadata": {},
   "outputs": [
    {
     "data": {
      "image/png": "[encoded data removed]",
      "text/plain": [
       "<Figure size 432x288 with 1 Axes>"
      ]
     },
     "metadata": {
      "needs_background": "light"
     },
     "output_type": "display_data"
    }
   ],
   "source": [
    "fig = plt.figure()\n",
    "\n",
    "colors = cycle('bgrcmy')\n",
    "for k, col in zip(range(n_clusters), colors):\n",
    "    \n",
    "    mask = (labels == k)\n",
    "    \n",
    "    cluster_center = cluster_centers[k]\n",
    "    \n",
    "    plt.scatter(df['Sepal length'][mask], df['Sepal width'][mask], c=col)"
   ]
  }
 ],
 "metadata": {
  "kernelspec": {
   "display_name": "Python 3",
   "language": "python",
   "name": "python3"
  },
  "language_info": {
   "codemirror_mode": {
    "name": "ipython",
    "version": 3
   },
   "file_extension": ".py",
   "mimetype": "text/x-python",
   "name": "python",
   "nbconvert_exporter": "python",
   "pygments_lexer": "ipython3",
   "version": "3.7.6"
  }
 },
 "nbformat": 4,
 "nbformat_minor": 4
}
