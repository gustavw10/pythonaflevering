{
 "cells": [
  {
   "cell_type": "markdown",
   "metadata": {},
   "source": [
    "## 01 Week 6 handin"
   ]
  },
  {
   "cell_type": "markdown",
   "metadata": {},
   "source": [
    "## 02 Status\n",
    "Der mangler stadig de sidste 2 opgaver "
   ]
  },
  {
   "cell_type": "code",
   "execution_count": 25,
   "metadata": {},
   "outputs": [
    {
     "name": "stdout",
     "output_type": "stream",
     "text": [
      "7\n",
      "The Prince\n",
      "['https://www.gutenberg.org/files/1232/1232-0.txt', 'https://www.gutenberg.org/files/1342/1342-0.txt', 'https://www.gutenberg.org/files/64317/64317-0.txt', 'https://www.gutenberg.org/files/1952/1952-0.txt', 'https://www.gutenberg.org/files/174/174-0.txt', 'https://www.gutenberg.org/files/64809/64809-0.txt', 'https://www.gutenberg.org/files/4300/4300-0.txt']\n"
     ]
    }
   ],
   "source": [
    "import requests\n",
    "from concurrent.futures import ThreadPoolExecutor\n",
    "from concurrent.futures import ProcessPoolExecutor\n",
    "import multiprocessing\n",
    "\n",
    "class NotFoundException(Exception):\n",
    "    \"\"\"Base class for other exceptions\"\"\"\n",
    "    pass\n",
    "\n",
    "class TextComparer(): \n",
    "      \n",
    "    def __init__(self, url_list):\n",
    "        self.url_list = url_list\n",
    "        self.index = 0\n",
    "        \n",
    "        \n",
    "    def __download__(self, url, filename):\n",
    "        \n",
    "        res = requests.get(url)\n",
    "        if res.status_code == 404:\n",
    "            raise NotFoundException\n",
    "                \n",
    "        with open(filename + \".txt\", 'wb') as fd:\n",
    "            for chunk in res.iter_content(chunk_size=1024):\n",
    "                fd.write(chunk)\n",
    "\n",
    "    \n",
    "    def __iter__(self):\n",
    "        return iter\n",
    "    \n",
    "    def __next__(self):\n",
    "        if self.index == len(self.url_list) -1:\n",
    "            raise StopIteration\n",
    "        print(len(self.url_list))\n",
    "        index_to_fetch = self.index\n",
    "        self.index = self.index + 1\n",
    "        return list(self.url_list.values())[index_to_fetch]\n",
    "\n",
    "\n",
    "\n",
    "    def __multi_download__(self, threads=5):\n",
    "\n",
    "        with ThreadPoolExecutor(threads) as ex:\n",
    "            for i in self.url_list:\n",
    "                ex.submit(self.__download__, i, self.url_list[i])\n",
    "\n",
    "            \n",
    "    def __urllist_generator__(self):\n",
    "        for url in self.url_list:\n",
    "            yield url            \n",
    "            \n",
    "books = {\n",
    "    \"https://www.gutenberg.org/files/1232/1232-0.txt\": \"The Prince\",\n",
    "    \"https://www.gutenberg.org/files/1342/1342-0.txt\": \"Pride and Prejudice\",\n",
    "    \"https://www.gutenberg.org/files/64317/64317-0.txt\": \"The Great Gatsby\",\n",
    "    \"https://www.gutenberg.org/files/1952/1952-0.txt\": \"The Yellow Wallpaper\",\n",
    "    \"https://www.gutenberg.org/files/174/174-0.txt\": \"The Picture of Dorian Grey\",\n",
    "    \"https://www.gutenberg.org/files/64809/64809-0.txt\": \"An Adventure\",\n",
    "    \"https://www.gutenberg.org/files/4300/4300-0.txt\": \"Ulysses\"\n",
    "}            \n",
    "    \n",
    "#Test af 1.1\n",
    "compar = TextComparer(books)\n",
    "\n",
    "#Test af 1.2\n",
    "#compar.__download__(\"https://www.gutenberg.org/files/64317/64317-0.txt\", \"The Great Gatsby\")\n",
    "\n",
    "#Test af 1.3\n",
    "compar.__multi_download__()\n",
    "\n",
    "\n",
    "#test af 1.5\n",
    "print(compar.__next__())\n",
    "\n",
    "\n",
    "#test af 1.6\n",
    "print([x for x in compar.__urllist_generator__()])\n",
    "\n",
    "\n"
   ]
  }
 ],
 "metadata": {
  "kernelspec": {
   "display_name": "Python 3",
   "language": "python",
   "name": "python3"
  },
  "language_info": {
   "codemirror_mode": {
    "name": "ipython",
    "version": 3
   },
   "file_extension": ".py",
   "mimetype": "text/x-python",
   "name": "python",
   "nbconvert_exporter": "python",
   "pygments_lexer": "ipython3",
   "version": "3.7.6"
  }
 },
 "nbformat": 4,
 "nbformat_minor": 4
}
