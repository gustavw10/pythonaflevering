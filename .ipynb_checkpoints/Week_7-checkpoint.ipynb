{
 "cells": [
  {
   "cell_type": "markdown",
   "id": "superior-turkish",
   "metadata": {},
   "source": [
    "## Exercise 1\n",
    "\n",
    "Åbn 'https://www.dba.dk/biler/'.\n",
    "Find ind alle biler med mærker: 'Peugeot', 'Volvo' og gem dem."
   ]
  },
  {
   "cell_type": "code",
   "execution_count": 7,
   "id": "precious-cologne",
   "metadata": {
    "scrolled": false
   },
   "outputs": [
    {
     "name": "stderr",
     "output_type": "stream",
     "text": [
      " 50%|█████     | 1/2 [00:00<00:00,  1.49it/s]"
     ]
    },
    {
     "name": "stdout",
     "output_type": "stream",
     "text": [
      "41\n",
      "[('https://www.dba.dk/peugeot-207-16-hdi-90/id-1077752072/', '2009', '320000', '16900'), ('https://www.dba.dk/peugeot-206-14-hdi/id-1077071356/', '2009', '215000', '14900'), ('https://www.dba.dk/peugeot-308-diesel-2009-km/id-1073536154/', '2009', '147500', '39500'), ('https://www.dba.dk/peugeot-207-16-hdi-90-diesel/id-505577819/', '2009', '126000', '29900')]\n"
     ]
    },
    {
     "name": "stderr",
     "output_type": "stream",
     "text": [
      "100%|██████████| 2/2 [00:01<00:00,  1.30it/s]"
     ]
    },
    {
     "name": "stdout",
     "output_type": "stream",
     "text": [
      "21\n",
      "[('https://www.dba.dk/peugeot-207-16-cc-benzin/id-505567226/', '2009', '118000', '89900'), ('https://www.dba.dk/peugeot-308-20-hdi-136/id-505489630/', '2009', '230000', '39900'), ('https://www.dba.dk/peugeot-407-18-performance/id-505542160/', '2009', '168000', '29900')]\n",
      "7\n"
     ]
    },
    {
     "name": "stderr",
     "output_type": "stream",
     "text": [
      "\n"
     ]
    }
   ],
   "source": [
    "from tqdm import tqdm\n",
    "import bs4\n",
    "import requests\n",
    "import re\n",
    "    \n",
    "def scrape_for_cars(url, search_year_flag, year_to_filter_by):\n",
    "    \"\"\"\n",
    "    returns:\n",
    "        A list of tuples of strings with information about cars of the type Peugot\n",
    "    \"\"\"\n",
    "    \n",
    "    r = requests.get(url, headers={'User-Agent': 'Mozilla/5.0'})\n",
    "    r.raise_for_status()\n",
    "\n",
    "    soup = bs4.BeautifulSoup(r.text, 'html.parser')\n",
    "    event_cells = soup.select(\"tr[class^=dbaListing]\")\n",
    "    \n",
    "    scraped_cars_per_page = []\n",
    "    \n",
    "    print(len(event_cells))\n",
    "    \n",
    "    for event_cell in event_cells:\n",
    "        \n",
    "        to_find = re.compile(r'title=\"Modelår\">[\\r\\n]+([^\\r\\n]+)')\n",
    "        regex_car_year = to_find.search(str(event_cell))\n",
    "        \n",
    "        car_year = str(event_cell.select(\"td[title^=Modelår]\")[0].getText()).strip()\n",
    "        car_km = event_cell.select(\"td[title^=Km]\")[0].getText().strip()\n",
    "        car_km = car_km.replace(\".\", \"\")\n",
    "        car_price = event_cell.select(\"td[title^=Pris]\")[0].getText().strip()     \n",
    "        car_price = car_price[:-4]\n",
    "        car_price = car_price.replace(\".\",\"\")\n",
    "        car_description = event_cell.select(\"a[class^=listingLink]\")[0].getText().strip()\n",
    "        #print(\"Description:\")\n",
    "        #print(car_description\n",
    "        \n",
    "        for link in event_cell.find_all('a'):\n",
    "            if not link.get('href').startswith('https'):\n",
    "                continue\n",
    "            car_link = link.get('href')\n",
    "        \n",
    "        if(search_year_flag):       \n",
    "            if(str(regex_car_year.group(1)).strip() == str(year_to_filter_by)):\n",
    "                scraped_cars_per_page.append((car_link, car_year, car_km, car_price))\n",
    "        else:\n",
    "            scraped_cars_per_page.append((car_link, car_year, car_km, car_price))\n",
    "    \n",
    "    print(scraped_cars_per_page)\n",
    "              \n",
    "    return scraped_cars_per_page\n",
    "\n",
    "\n",
    "scraped_total_cars = []\n",
    "\n",
    "indexes = range(1, 3)\n",
    "search_year_flag = True\n",
    "year_to_filter_by = 2009\n",
    "\n",
    "for idx in tqdm(indexes):\n",
    "    if idx == 0:\n",
    "        url=\"https://www.dba.dk/biler/biler/maerke-peugeot/\"\n",
    "    else:\n",
    "        url = \"https://www.dba.dk/biler/biler/maerke-peugeot/side-{}/\".format(idx)\n",
    "        \n",
    "    scraped_total_cars += scrape_for_cars(url, search_year_flag, year_to_filter_by)\n",
    "    \n",
    "print(len(scraped_total_cars))"
   ]
  },
  {
   "cell_type": "markdown",
   "id": "confidential-realtor",
   "metadata": {},
   "source": [
    "## Exercise 2\n",
    "Brug Regular Expressions til at sortere de fundne biler på år 2009."
   ]
  },
  {
   "cell_type": "markdown",
   "id": "laden-malta",
   "metadata": {},
   "source": [
    "Der er implementeret en løsning hvor den leder efter year_to_filter_by hvis search_year_flag er sat til True"
   ]
  },
  {
   "cell_type": "markdown",
   "id": "reported-illustration",
   "metadata": {},
   "source": [
    "## Exercise 3\n",
    "Brug Selenium til at tilgå de samme punkter som i forrige opgaver, og vælge den dyreste bil.\n",
    "Brug BeautifulSoup til at printe bilbeskrivelsen ud."
   ]
  },
  {
   "cell_type": "code",
   "execution_count": 41,
   "id": "marine-bobby",
   "metadata": {},
   "outputs": [
    {
     "name": "stderr",
     "output_type": "stream",
     "text": [
      "[WDM] - ====== WebDriver manager ======\n",
      "[WDM] - Driver [C:\\Users\\Gustav\\.wdm\\drivers\\geckodriver\\win64\\v0.29.0\\geckodriver.exe] found in cache\n"
     ]
    },
    {
     "name": "stdout",
     "output_type": "stream",
     "text": [
      "\n",
      "\n",
      "https://www.dba.dk/biler/biler/maerke-peugeot/\n"
     ]
    },
    {
     "ename": "NoSuchElementException",
     "evalue": "Message: Unable to locate element: /html/body/div[4]/div[1]/div[1]/section/div[8]/ul/li[9]\n",
     "output_type": "error",
     "traceback": [
      "\u001b[1;31m---------------------------------------------------------------------------\u001b[0m",
      "\u001b[1;31mNoSuchElementException\u001b[0m                    Traceback (most recent call last)",
      "\u001b[1;32m<ipython-input-41-48251f002632>\u001b[0m in \u001b[0;36m<module>\u001b[1;34m\u001b[0m\n\u001b[0;32m     49\u001b[0m         \u001b[0mfile\u001b[0m\u001b[1;33m.\u001b[0m\u001b[0mwrite\u001b[0m\u001b[1;33m(\u001b[0m\u001b[0mjson\u001b[0m\u001b[1;33m.\u001b[0m\u001b[0mdumps\u001b[0m\u001b[1;33m(\u001b[0m\u001b[0mpage\u001b[0m\u001b[1;33m)\u001b[0m\u001b[1;33m)\u001b[0m\u001b[1;33m\u001b[0m\u001b[1;33m\u001b[0m\u001b[0m\n\u001b[0;32m     50\u001b[0m \u001b[1;33m\u001b[0m\u001b[0m\n\u001b[1;32m---> 51\u001b[1;33m \u001b[0meducations\u001b[0m \u001b[1;33m=\u001b[0m \u001b[0mget_cars_selenium\u001b[0m\u001b[1;33m(\u001b[0m\u001b[1;33m)\u001b[0m\u001b[1;33m\u001b[0m\u001b[1;33m\u001b[0m\u001b[0m\n\u001b[0m\u001b[0;32m     52\u001b[0m \u001b[1;31m#print(educations)\u001b[0m\u001b[1;33m\u001b[0m\u001b[1;33m\u001b[0m\u001b[1;33m\u001b[0m\u001b[0m\n",
      "\u001b[1;32m<ipython-input-41-48251f002632>\u001b[0m in \u001b[0;36mget_cars_selenium\u001b[1;34m()\u001b[0m\n\u001b[0;32m     30\u001b[0m \u001b[1;33m\u001b[0m\u001b[0m\n\u001b[0;32m     31\u001b[0m         \u001b[1;31m#r = requests.get(browser.current_url, headers={'User-Agent': 'Mozilla/5.0'})\u001b[0m\u001b[1;33m\u001b[0m\u001b[1;33m\u001b[0m\u001b[1;33m\u001b[0m\u001b[0m\n\u001b[1;32m---> 32\u001b[1;33m         \u001b[0melement\u001b[0m \u001b[1;33m=\u001b[0m \u001b[0mbrowser\u001b[0m\u001b[1;33m.\u001b[0m\u001b[0mfind_element_by_xpath\u001b[0m\u001b[1;33m(\u001b[0m\u001b[1;34m'/html/body/div[4]/div[1]/div[1]/section/div[8]/ul/li[9]'\u001b[0m\u001b[1;33m)\u001b[0m\u001b[1;33m\u001b[0m\u001b[1;33m\u001b[0m\u001b[0m\n\u001b[0m\u001b[0;32m     33\u001b[0m         \u001b[0mbrowser\u001b[0m\u001b[1;33m.\u001b[0m\u001b[0mexecute_script\u001b[0m\u001b[1;33m(\u001b[0m\u001b[1;34m\"arguments[0].click();\"\u001b[0m\u001b[1;33m,\u001b[0m \u001b[0melement\u001b[0m\u001b[1;33m)\u001b[0m\u001b[1;33m\u001b[0m\u001b[1;33m\u001b[0m\u001b[0m\n\u001b[0;32m     34\u001b[0m \u001b[1;33m\u001b[0m\u001b[0m\n",
      "\u001b[1;32mc:\\users\\gustav\\appdata\\local\\programs\\python\\python39\\lib\\site-packages\\selenium\\webdriver\\remote\\webdriver.py\u001b[0m in \u001b[0;36mfind_element_by_xpath\u001b[1;34m(self, xpath)\u001b[0m\n\u001b[0;32m    392\u001b[0m             \u001b[0melement\u001b[0m \u001b[1;33m=\u001b[0m \u001b[0mdriver\u001b[0m\u001b[1;33m.\u001b[0m\u001b[0mfind_element_by_xpath\u001b[0m\u001b[1;33m(\u001b[0m\u001b[1;34m'//div/td[1]'\u001b[0m\u001b[1;33m)\u001b[0m\u001b[1;33m\u001b[0m\u001b[1;33m\u001b[0m\u001b[0m\n\u001b[0;32m    393\u001b[0m         \"\"\"\n\u001b[1;32m--> 394\u001b[1;33m         \u001b[1;32mreturn\u001b[0m \u001b[0mself\u001b[0m\u001b[1;33m.\u001b[0m\u001b[0mfind_element\u001b[0m\u001b[1;33m(\u001b[0m\u001b[0mby\u001b[0m\u001b[1;33m=\u001b[0m\u001b[0mBy\u001b[0m\u001b[1;33m.\u001b[0m\u001b[0mXPATH\u001b[0m\u001b[1;33m,\u001b[0m \u001b[0mvalue\u001b[0m\u001b[1;33m=\u001b[0m\u001b[0mxpath\u001b[0m\u001b[1;33m)\u001b[0m\u001b[1;33m\u001b[0m\u001b[1;33m\u001b[0m\u001b[0m\n\u001b[0m\u001b[0;32m    395\u001b[0m \u001b[1;33m\u001b[0m\u001b[0m\n\u001b[0;32m    396\u001b[0m     \u001b[1;32mdef\u001b[0m \u001b[0mfind_elements_by_xpath\u001b[0m\u001b[1;33m(\u001b[0m\u001b[0mself\u001b[0m\u001b[1;33m,\u001b[0m \u001b[0mxpath\u001b[0m\u001b[1;33m)\u001b[0m\u001b[1;33m:\u001b[0m\u001b[1;33m\u001b[0m\u001b[1;33m\u001b[0m\u001b[0m\n",
      "\u001b[1;32mc:\\users\\gustav\\appdata\\local\\programs\\python\\python39\\lib\\site-packages\\selenium\\webdriver\\remote\\webdriver.py\u001b[0m in \u001b[0;36mfind_element\u001b[1;34m(self, by, value)\u001b[0m\n\u001b[0;32m    974\u001b[0m                 \u001b[0mby\u001b[0m \u001b[1;33m=\u001b[0m \u001b[0mBy\u001b[0m\u001b[1;33m.\u001b[0m\u001b[0mCSS_SELECTOR\u001b[0m\u001b[1;33m\u001b[0m\u001b[1;33m\u001b[0m\u001b[0m\n\u001b[0;32m    975\u001b[0m                 \u001b[0mvalue\u001b[0m \u001b[1;33m=\u001b[0m \u001b[1;34m'[name=\"%s\"]'\u001b[0m \u001b[1;33m%\u001b[0m \u001b[0mvalue\u001b[0m\u001b[1;33m\u001b[0m\u001b[1;33m\u001b[0m\u001b[0m\n\u001b[1;32m--> 976\u001b[1;33m         return self.execute(Command.FIND_ELEMENT, {\n\u001b[0m\u001b[0;32m    977\u001b[0m             \u001b[1;34m'using'\u001b[0m\u001b[1;33m:\u001b[0m \u001b[0mby\u001b[0m\u001b[1;33m,\u001b[0m\u001b[1;33m\u001b[0m\u001b[1;33m\u001b[0m\u001b[0m\n\u001b[0;32m    978\u001b[0m             'value': value})['value']\n",
      "\u001b[1;32mc:\\users\\gustav\\appdata\\local\\programs\\python\\python39\\lib\\site-packages\\selenium\\webdriver\\remote\\webdriver.py\u001b[0m in \u001b[0;36mexecute\u001b[1;34m(self, driver_command, params)\u001b[0m\n\u001b[0;32m    319\u001b[0m         \u001b[0mresponse\u001b[0m \u001b[1;33m=\u001b[0m \u001b[0mself\u001b[0m\u001b[1;33m.\u001b[0m\u001b[0mcommand_executor\u001b[0m\u001b[1;33m.\u001b[0m\u001b[0mexecute\u001b[0m\u001b[1;33m(\u001b[0m\u001b[0mdriver_command\u001b[0m\u001b[1;33m,\u001b[0m \u001b[0mparams\u001b[0m\u001b[1;33m)\u001b[0m\u001b[1;33m\u001b[0m\u001b[1;33m\u001b[0m\u001b[0m\n\u001b[0;32m    320\u001b[0m         \u001b[1;32mif\u001b[0m \u001b[0mresponse\u001b[0m\u001b[1;33m:\u001b[0m\u001b[1;33m\u001b[0m\u001b[1;33m\u001b[0m\u001b[0m\n\u001b[1;32m--> 321\u001b[1;33m             \u001b[0mself\u001b[0m\u001b[1;33m.\u001b[0m\u001b[0merror_handler\u001b[0m\u001b[1;33m.\u001b[0m\u001b[0mcheck_response\u001b[0m\u001b[1;33m(\u001b[0m\u001b[0mresponse\u001b[0m\u001b[1;33m)\u001b[0m\u001b[1;33m\u001b[0m\u001b[1;33m\u001b[0m\u001b[0m\n\u001b[0m\u001b[0;32m    322\u001b[0m             response['value'] = self._unwrap_value(\n\u001b[0;32m    323\u001b[0m                 response.get('value', None))\n",
      "\u001b[1;32mc:\\users\\gustav\\appdata\\local\\programs\\python\\python39\\lib\\site-packages\\selenium\\webdriver\\remote\\errorhandler.py\u001b[0m in \u001b[0;36mcheck_response\u001b[1;34m(self, response)\u001b[0m\n\u001b[0;32m    240\u001b[0m                 \u001b[0malert_text\u001b[0m \u001b[1;33m=\u001b[0m \u001b[0mvalue\u001b[0m\u001b[1;33m[\u001b[0m\u001b[1;34m'alert'\u001b[0m\u001b[1;33m]\u001b[0m\u001b[1;33m.\u001b[0m\u001b[0mget\u001b[0m\u001b[1;33m(\u001b[0m\u001b[1;34m'text'\u001b[0m\u001b[1;33m)\u001b[0m\u001b[1;33m\u001b[0m\u001b[1;33m\u001b[0m\u001b[0m\n\u001b[0;32m    241\u001b[0m             \u001b[1;32mraise\u001b[0m \u001b[0mexception_class\u001b[0m\u001b[1;33m(\u001b[0m\u001b[0mmessage\u001b[0m\u001b[1;33m,\u001b[0m \u001b[0mscreen\u001b[0m\u001b[1;33m,\u001b[0m \u001b[0mstacktrace\u001b[0m\u001b[1;33m,\u001b[0m \u001b[0malert_text\u001b[0m\u001b[1;33m)\u001b[0m\u001b[1;33m\u001b[0m\u001b[1;33m\u001b[0m\u001b[0m\n\u001b[1;32m--> 242\u001b[1;33m         \u001b[1;32mraise\u001b[0m \u001b[0mexception_class\u001b[0m\u001b[1;33m(\u001b[0m\u001b[0mmessage\u001b[0m\u001b[1;33m,\u001b[0m \u001b[0mscreen\u001b[0m\u001b[1;33m,\u001b[0m \u001b[0mstacktrace\u001b[0m\u001b[1;33m)\u001b[0m\u001b[1;33m\u001b[0m\u001b[1;33m\u001b[0m\u001b[0m\n\u001b[0m\u001b[0;32m    243\u001b[0m \u001b[1;33m\u001b[0m\u001b[0m\n\u001b[0;32m    244\u001b[0m     \u001b[1;32mdef\u001b[0m \u001b[0m_value_or_default\u001b[0m\u001b[1;33m(\u001b[0m\u001b[0mself\u001b[0m\u001b[1;33m,\u001b[0m \u001b[0mobj\u001b[0m\u001b[1;33m,\u001b[0m \u001b[0mkey\u001b[0m\u001b[1;33m,\u001b[0m \u001b[0mdefault\u001b[0m\u001b[1;33m)\u001b[0m\u001b[1;33m:\u001b[0m\u001b[1;33m\u001b[0m\u001b[1;33m\u001b[0m\u001b[0m\n",
      "\u001b[1;31mNoSuchElementException\u001b[0m: Message: Unable to locate element: /html/body/div[4]/div[1]/div[1]/section/div[8]/ul/li[9]\n"
     ]
    }
   ],
   "source": [
    "from selenium import webdriver\n",
    "import bs4\n",
    "import json\n",
    "from webdriver_manager.firefox import GeckoDriverManager\n",
    "from selenium.webdriver.support.ui import WebDriverWait\n",
    "\n",
    "url = 'https://www.dba.dk/biler/biler/maerke-peugeot/'\n",
    "def get_cars_selenium():\n",
    "    \n",
    "    browser = webdriver.Firefox(executable_path=GeckoDriverManager().install())\n",
    "    browser.get(url)\n",
    "    browser.implicitly_wait(2)\n",
    "    button = browser.find_element_by_id('onetrust-accept-btn-handler')\n",
    "    button.click()\n",
    "    \n",
    "    #r = requests.get(url, headers={'User-Agent': 'Mozilla/5.0'})\n",
    "    #r.raise_for_status()\n",
    "\n",
    "    #soup = bs4.BeautifulSoup(r.text, 'html.parser')\n",
    "    #event_cells = soup.select(\"tr[class^=dbaListing]\")\n",
    "    \n",
    "    all_cars = []\n",
    "    \n",
    "    number_of_pages = browser.find_element_by_css_selector('.pagination > ul:nth-child(1) > li:nth-child(6) > a:nth-child(1)')\n",
    "    number_of_pages = int(str(number_of_pages.text).strip())\n",
    "    \n",
    "    for n in range(1,4):\n",
    "        print(browser.current_url)\n",
    "        browser.execute_script(\"window.scrollTo(0, document.body.scrollHeight);\")\n",
    "        browser.implicitly_wait(2)\n",
    "        browser.execute_script(\"window.scrollTo(0, document.body.scrollHeight);\")\n",
    "        #r = requests.get(browser.current_url, headers={'User-Agent': 'Mozilla/5.0'})\n",
    "        element = browser.find_element_by_xpath('/html/body/div[4]/div[1]/div[1]/section/div[8]/ul/li[9]')\n",
    "        browser.execute_script(\"arguments[0].click();\", element)\n",
    "    \n",
    "    #edu_buttons = browser.find_elements_by_css_selector('tr.dbaListing:nth-child(42)')\n",
    "    edu_buttons = browser.find_elements_by_xpath('/html/body/div[4]/div[1]/div[1]/section/table/tbody/tr')\n",
    "    #print(len(edu_buttons))\n",
    "    educations = [b.text for b in edu_buttons]\n",
    "    #print(len(educations))\n",
    "    return educations\n",
    "\n",
    "def find_elements(page, selector):\n",
    "    soup = bs4.BeautifulSoup(page, 'html.parser')\n",
    "    event_cells = soup.select(selector)\n",
    "    return event_cells\n",
    "\n",
    "def print_page(page,file):\n",
    "    with open(file,'w') as file:\n",
    "        file.write(json.dumps(page))\n",
    "\n",
    "educations = get_cars_selenium()\n",
    "#print(educations)"
   ]
  }
 ],
 "metadata": {
  "kernelspec": {
   "display_name": "Python 3",
   "language": "python",
   "name": "python3"
  },
  "language_info": {
   "codemirror_mode": {
    "name": "ipython",
    "version": 3
   },
   "file_extension": ".py",
   "mimetype": "text/x-python",
   "name": "python",
   "nbconvert_exporter": "python",
   "pygments_lexer": "ipython3",
   "version": "3.9.1"
  }
 },
 "nbformat": 4,
 "nbformat_minor": 5
}
