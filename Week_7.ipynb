{
 "cells": [
  {
   "cell_type": "markdown",
   "id": "superior-turkish",
   "metadata": {},
   "source": [
    "## Exercise 1\n",
    "\n",
    "Åbn 'https://www.dba.dk/biler/'.\n",
    "Find ind alle biler med mærket: 'Peugeot' og gem dem."
   ]
  },
  {
   "cell_type": "code",
   "execution_count": 106,
   "id": "precious-cologne",
   "metadata": {
    "scrolled": false
   },
   "outputs": [
    {
     "name": "stderr",
     "output_type": "stream",
     "text": [
      " 33%|███▎      | 1/3 [00:00<00:01,  1.52it/s]"
     ]
    },
    {
     "name": "stdout",
     "output_type": "stream",
     "text": [
      "41\n",
      "[('https://www.dba.dk/peugeot-partner-16-xt-16v/id-1077767901/', '2004', '207000', '12000'), ('https://www.dba.dk/peugeot-206-14-hdi-68/id-1077739823/', '2011', '290000', '14900'), ('https://www.dba.dk/peugeot-206-14-hdi-diesel/id-1077729306/', '2008', '308000', '8500'), ('https://www.dba.dk/peugeot-208-12-vti-access/id-1077727957/', '2012', '117000', '55000'), ('https://www.dba.dk/peugeot-107-10-comfort/id-1077718133/', '2008', '285000', '14999'), ('https://www.dba.dk/peugeot-207-16-hdi-xr/id-1077712549/', '2007', '251000', '22195'), ('https://www.dba.dk/peugeot-207-14-hdi-70/id-1077684148/', '2009', '203000', '18500'), ('https://www.dba.dk/peugeot-207-16-hdi-90/id-1077678030/', '2007', '285000', '17900'), ('https://www.dba.dk/peugeot-207-16-hdi-90/id-1077626529/', '2010', '195000', '28500'), ('https://www.dba.dk/peugeot-307-diesel-2007-km/id-1077192599/', '2007', '270000', '25000'), ('https://www.dba.dk/peugeot-107-10-comfort/id-1075187664/', '2010', '120000', '26999'), ('https://www.dba.dk/peugeot-406-18-st-stc/id-1077301238/', '2001', '275000', '7900'), ('https://www.dba.dk/peugeot-206-14-hdi/id-1077071356/', '2009', '215000', '14900'), ('https://www.dba.dk/peugeot-108-10-e-vti-69/id-1077231482/', '2017', '98000', '61990'), ('https://www.dba.dk/peugeot-207-16-hdi-90/id-1077031451/', '2010', '229000', '21000'), ('https://www.dba.dk/29000-ved-hurtig-handel/id-1076676141/', '2013', '147000', '29000'), ('https://www.dba.dk/peugeot-207-14-xr-benzin/id-1076387252/', '2007', '145500', '24900'), ('https://www.dba.dk/peugeot-206-14-hdi-68/id-1075047473/', '2012', '147000', '28000'), ('https://www.dba.dk/peugeot-207-16-s16-benzin/id-1074038418/', '2006', '206000', '22500'), ('https://www.dba.dk/peugeot-308-diesel-2009-km/id-1073536154/', '2009', '147500', '39500'), ('https://www.dba.dk/peugeot-206-14-edition-benzin/id-505578266/', '2005', '164000', '12900'), ('https://www.dba.dk/peugeot-406-20-xs4-stc/id-1077785126/', '2004', '268500', '5500'), ('https://www.dba.dk/peugeot-208-10-vti-motion-air/id-505578147/', '2014', '84000', '49400'), ('https://www.dba.dk/peugeot-207-16-hdi-92/id-1077784459/', '2011', '233000', '25900'), ('https://www.dba.dk/peugeot-5008-20-hdi-150/id-505542638/', '2012', '207000', '69999'), ('https://www.dba.dk/peugeot-208-16-bluehdi-100/id-1077784348/', '2016', '246000', '65000'), ('https://www.dba.dk/peugeot-407-16-hdi-109/id-1077784038/', '2008', '178000', '39900'), ('https://www.dba.dk/peugeot-107-10-trendy/id-1077783835/', '2007', '', '19500'), ('https://www.dba.dk/peugeot-107-10-champion-air/id-1077782899/', '2013', '58024', '49500'), ('https://www.dba.dk/peugeot-206-14-comfort/id-505578048/', '2011', '130000', '29700'), ('https://www.dba.dk/peugeot-206-16-benzin/id-1077780714/', '2004', '', '7000'), ('https://www.dba.dk/peugeot-207-16-hdi-92/id-505578032/', '2010', '146000', '29900'), ('https://www.dba.dk/peugeot-307-16-performance/id-505578020/', '2006', '158000', '29900'), ('https://www.dba.dk/peugeot-207-16-hdi-90/id-1077780192/', '2008', '', '20000'), ('https://www.dba.dk/peugeot-307-16-hdi-110-sw/id-505255388/', '2008', '341000', '16800'), ('https://www.dba.dk/peugeot-407-18-performance/id-1077779892/', '2006', '270', '12500'), ('https://www.dba.dk/peugeot-107-10-champion-air/id-505578005/', '2013', '107000', '37500'), ('https://www.dba.dk/peugeot-208-12-vti-allure/id-505578024/', '2012', '166000', '53900'), ('https://www.dba.dk/peugeot-206-14-edition/id-1077778141/', '2005', '170000', '17000'), ('https://www.dba.dk/peugeot-307-benzin-2006-km/id-1077778120/', '2006', '215000', '14900'), ('https://www.dba.dk/peugeot-307-benzin-2007-km/id-1077777855/', '2007', '106300', '78000')]\n"
     ]
    },
    {
     "name": "stderr",
     "output_type": "stream",
     "text": [
      "\r",
      " 67%|██████▋   | 2/3 [00:01<00:00,  1.69it/s]"
     ]
    },
    {
     "name": "stdout",
     "output_type": "stream",
     "text": [
      "21\n",
      "[('https://www.dba.dk/peugeot-1007-14-city-benzin/id-505577968/', '2005', '158000', '19900'), ('https://www.dba.dk/peugeot-308-diesel-2010-km/id-1077777698/', '2010', '259500', '31999'), ('https://www.dba.dk/peugeot-107-10-cool-benzin/id-1077777017/', '2012', '120000', '24999'), ('https://www.dba.dk/peugeot-107-14-hdi-diesel/id-1077777168/', '2006', '', '8500'), ('https://www.dba.dk/peugeot-107-10-comfort/id-1077776803/', '2007', '290000', '13000'), ('https://www.dba.dk/peugeot-2008-12-vti-82-active/id-505577937/', '2017', '33000', '139900'), ('https://www.dba.dk/peugeot-207-16-hdi-90/id-1077776490/', '2010', '320000', '15000'), ('https://www.dba.dk/peugeot-partner-16-combi/id-505577927/', '2002', '246000', '4999'), ('https://www.dba.dk/peugeot-108-10-e-vti-69/id-505497838/', '2016', '46000', '67900'), ('https://www.dba.dk/peugeot-308-16-hdi-112/id-505542456/', '2011', '175000', '59999'), ('https://www.dba.dk/peugeot-307-benzin-2005-km/id-1077776085/', '2005', '288000', '14500'), ('https://www.dba.dk/peugeot-205-14-xri-benzin/id-505567275/', '1991', '102000', '14900'), ('https://www.dba.dk/peugeot-206-16-sport/id-1077775051/', '2001', '292000', '3500'), ('https://www.dba.dk/peugeot-208-12-vti-82-style/id-505577985/', '2018', '51000', '119700'), ('https://www.dba.dk/peugeot-307-air-van-20-l/id-1077774835/', '2008', '97200', '18000'), ('https://www.dba.dk/peugeot-2008-12-vti-82/id-1077774717/', '2016', '128000', '89900'), ('https://www.dba.dk/peugeot-2008-16-e-hdi-92/id-505577844/', '2014', '125000', '99900'), ('https://www.dba.dk/peugeot-308-16-bluehdi-120/id-505577851/', '2015', '180000', '89999'), ('https://www.dba.dk/peugeot-308-16-bluehdi-120/id-505202179/', '2017', '70000', '147800'), ('https://www.dba.dk/peugeot-2008-12-vti-82-style/id-505542410/', '2016', '83000', '127900'), ('https://www.dba.dk/peugeot-407-18-sr-benzin/id-1077773408/', '2004', '254000', '9900')]\n"
     ]
    },
    {
     "name": "stderr",
     "output_type": "stream",
     "text": [
      "100%|██████████| 3/3 [00:01<00:00,  1.80it/s]"
     ]
    },
    {
     "name": "stdout",
     "output_type": "stream",
     "text": [
      "21\n",
      "[('https://www.dba.dk/peugeot-3008-16-hdi-110/id-505577840/', '2010', '205000', '44900'), ('https://www.dba.dk/peugeot-207-14-hdi-comfort/id-1077773657/', '2007', '150000', '18000'), ('https://www.dba.dk/peugeot-e-2008-gt-el-aut/id-505482201/', '2020', '6000', '354900'), ('https://www.dba.dk/peugeot-206-14-hdi-70/id-1077773517/', '2010', '228000', '19800'), ('https://www.dba.dk/peugeot-207-16-hdi-90-diesel/id-505577819/', '2009', '126000', '29900'), ('https://www.dba.dk/peugeot-508-20-hdi-163-allure/id-504479743/', '2015', '57000', '199500'), ('https://www.dba.dk/peugeot-308-16-bluehdi-120/id-505558685/', '2018', '46000', '184900'), ('https://www.dba.dk/peugeot-208-15-bluehdi-100/id-505558693/', '2020', '4000', '179990'), ('https://www.dba.dk/peugeot-107-10-active/id-1077772035/', '2012', '103000', '32900'), ('https://www.dba.dk/peugeot-2008-15-bluehdi-130/id-505558662/', '2020', '9300', '309900'), ('https://www.dba.dk/peugeot-3008-15-bluehdi-130/id-505497710/', '2019', '42000', '349800'), ('https://www.dba.dk/peugeot-207-16-cc-benzin/id-505567226/', '2009', '118000', '89900'), ('https://www.dba.dk/peugeot-205-16-gti-benzin/id-504628252/', '1986', '69000', '119900'), ('https://www.dba.dk/peugeot-308-20-hdi-136/id-505489630/', '2009', '230000', '39900'), ('https://www.dba.dk/peugeot-207-16-vti-premium/id-1077771147/', '2008', '140000', '27000'), ('https://www.dba.dk/peugeot-108-10-e-vti-69/id-505497662/', '2016', '59000', '67700'), ('https://www.dba.dk/peugeot-206-14-hdi/id-505558612/', '2007', '174000', '13000'), ('https://www.dba.dk/peugeot-208-12-pt-100-allure/id-505558577/', '2020', '5000', '189900'), ('https://www.dba.dk/peugeot-207-16-hdi-92/id-505300405/', '2010', '158000', '50000'), ('https://www.dba.dk/peugeot-208-12-vti-active-esg/id-505577548/', '2014', '112000', '74900'), ('https://www.dba.dk/peugeot-2008-15-bluehdi-130/id-505568172/', '2020', '4000', '279900')]\n",
      "83\n"
     ]
    },
    {
     "name": "stderr",
     "output_type": "stream",
     "text": [
      "\n"
     ]
    }
   ],
   "source": [
    "from tqdm import tqdm\n",
    "import bs4\n",
    "import requests\n",
    "import re\n",
    "    \n",
    "def scrape_for_cars(url, search_year_flag, year_to_filter_by):\n",
    "    \"\"\"\n",
    "    returns:\n",
    "        A list of tuples of strings with information about cars of the type Peugot\n",
    "    \"\"\"\n",
    "    \n",
    "    r = requests.get(url, headers={'User-Agent': 'Mozilla/5.0'})\n",
    "    r.raise_for_status()\n",
    "\n",
    "    soup = bs4.BeautifulSoup(r.text, 'html.parser')\n",
    "    event_cells = soup.select(\"tr[class^=dbaListing]\")\n",
    "    \n",
    "    scraped_cars_per_page = []\n",
    "    \n",
    "    print(len(event_cells))\n",
    "    \n",
    "    for event_cell in event_cells:\n",
    "        \n",
    "        to_find = re.compile(r'title=\"Modelår\">[\\r\\n]+([^\\r\\n]+)')\n",
    "        regex_car_year = to_find.search(str(event_cell))\n",
    "        \n",
    "        car_year = str(event_cell.select(\"td[title^=Modelår]\")[0].getText()).strip()\n",
    "        car_km = event_cell.select(\"td[title^=Km]\")[0].getText().strip()\n",
    "        car_km = car_km.replace(\".\", \"\")\n",
    "        car_price = event_cell.select(\"td[title^=Pris]\")[0].getText().strip()     \n",
    "        car_price = car_price[:-4]\n",
    "        car_price = car_price.replace(\".\",\"\")\n",
    "        \n",
    "        for link in event_cell.find_all('a'):\n",
    "            if not link.get('href').startswith('https'):\n",
    "                continue\n",
    "            car_link = link.get('href')\n",
    "        \n",
    "        if(search_year_flag):       \n",
    "            if(str(regex_car_year.group(1)).strip() == str(year_to_filter_by)):\n",
    "                scraped_cars_per_page.append((car_link, car_year, car_km, car_price))\n",
    "        else:\n",
    "            scraped_cars_per_page.append((car_link, car_year, car_km, car_price))\n",
    "    \n",
    "    print(scraped_cars_per_page)\n",
    "              \n",
    "    return scraped_cars_per_page\n",
    "\n",
    "\n",
    "scraped_total_cars = []\n",
    "\n",
    "indexes = range(1, 6)\n",
    "search_year_flag = True\n",
    "year_to_filter_by = 2009\n",
    "\n",
    "for idx in tqdm(indexes):\n",
    "    if idx == 0:\n",
    "        url=\"https://www.dba.dk/biler/biler/maerke-peugeot/\"\n",
    "    else:\n",
    "        url = \"https://www.dba.dk/biler/biler/maerke-peugeot/side-{}/\".format(idx)\n",
    "        \n",
    "    scraped_total_cars += scrape_for_cars(url, search_year_flag, year_to_filter_by)\n",
    "    \n",
    "print(len(scraped_total_cars))"
   ]
  },
  {
   "cell_type": "markdown",
   "id": "confidential-realtor",
   "metadata": {},
   "source": [
    "## Exercise 2\n",
    "Brug Regular Expressions til at sortere de fundne biler på år 2009."
   ]
  },
  {
   "cell_type": "code",
   "execution_count": null,
   "id": "crucial-lightning",
   "metadata": {},
   "outputs": [],
   "source": [
    "#Der er implementeret en løsning hvor den leder efter year_to_filter_by hvis search_year_flag er sat til True"
   ]
  },
  {
   "cell_type": "markdown",
   "id": "through-hunger",
   "metadata": {},
   "source": [
    "## Exercise 3\n",
    "Brug Selenium til at tilgå de samme punkter som i forrige opgaver, og vælge den dyreste bil.\n",
    "Brug BeautifulSoup til at printe bilbeskrivelsen ud."
   ]
  },
  {
   "cell_type": "code",
   "execution_count": 104,
   "id": "quiet-dressing",
   "metadata": {
    "scrolled": false
   },
   "outputs": [
    {
     "name": "stderr",
     "output_type": "stream",
     "text": [
      "[WDM] - ====== WebDriver manager ======\n",
      "[WDM] - Driver [C:\\Users\\Gustav\\.wdm\\drivers\\geckodriver\\win64\\v0.29.0\\geckodriver.exe] found in cache\n"
     ]
    },
    {
     "name": "stdout",
     "output_type": "stream",
     "text": [
      "\n",
      "\n",
      "fetching from https://www.dba.dk/biler/biler/maerke-peugeot/, cell count:41\n",
      "fetching from https://www.dba.dk/biler/biler/maerke-peugeot/side-2/, cell count:21\n",
      "fetching from https://www.dba.dk/biler/biler/maerke-peugeot/side-3/, cell count:21\n",
      "fetching from https://www.dba.dk/biler/biler/maerke-peugeot/side-4/, cell count:21\n",
      "fetching from https://www.dba.dk/biler/biler/maerke-peugeot/side-5/, cell count:21\n",
      "fetching from https://www.dba.dk/biler/biler/maerke-peugeot/side-6/, cell count:21\n",
      "146\n",
      "[('2004', '207000', '12000 kr'), ('2011', '290000', '14900 kr'), ('2008', '308000', '8500 kr'), ('2012', '117000', '55000 kr'), ('2008', '285000', '14999 kr'), ('2007', '251000', '22195 kr'), ('2009', '203000', '18500 kr'), ('2007', '285000', '17900 kr'), ('2010', '195000', '28500 kr'), ('2007', '270000', '25000 kr'), ('2010', '120000', '26999 kr'), ('2001', '275000', '7900 kr'), ('2009', '215000', '14900 kr'), ('2017', '98000', '61990 kr'), ('2010', '229000', '21000 kr'), ('2013', '147000', '29000 kr'), ('2007', '145500', '24900 kr'), ('2012', '147000', '28000 kr'), ('2006', '206000', '22500 kr'), ('2009', '147500', '39500 kr'), ('2005', '164000', '12900 kr'), ('2004', '268500', '5500 kr'), ('2014', '84000', '49400 kr'), ('2011', '233000', '25900 kr'), ('2012', '207000', '69999 kr'), ('2016', '246000', '65000 kr'), ('2008', '178000', '39900 kr'), ('2007', '', '19500 kr'), ('2013', '58024', '49500 kr'), ('2011', '130000', '29700 kr'), ('2004', '', '7000 kr'), ('2010', '146000', '29900 kr'), ('2006', '158000', '29900 kr'), ('2008', '', '20000 kr'), ('2008', '341000', '16800 kr'), ('2006', '270', '12500 kr'), ('2013', '107000', '37500 kr'), ('2012', '166000', '53900 kr'), ('2005', '170000', '17000 kr'), ('2006', '215000', '14900 kr'), ('2007', '106300', '78000 kr'), ('2010', '259500', '31999 kr'), ('2012', '120000', '24999 kr'), ('2006', '', '8500 kr'), ('2007', '290000', '13000 kr'), ('2017', '33000', '139900 kr'), ('2010', '320000', '15000 kr'), ('2002', '246000', '4999 kr'), ('2016', '46000', '67900 kr'), ('2011', '175000', '59999 kr'), ('2005', '288000', '14500 kr'), ('1991', '102000', '14900 kr'), ('2001', '292000', '3500 kr'), ('2018', '51000', '119700 kr'), ('2008', '97200', '18000 kr'), ('2016', '128000', '89900 kr'), ('2014', '125000', '99900 kr'), ('2015', '180000', '89999 kr'), ('2017', '70000', '147800 kr'), ('2016', '83000', '127900 kr'), ('2004', '254000', '9900 kr'), ('2010', '205000', '44900 kr'), ('2010', '205000', '44900 kr'), ('2007', '150000', '18000 kr'), ('2020', '6000', '354900 kr'), ('2010', '228000', '19800 kr'), ('2009', '126000', '29900 kr'), ('2015', '57000', '199500 kr'), ('2018', '46000', '184900 kr'), ('2020', '4000', '179990 kr'), ('2012', '103000', '32900 kr'), ('2020', '9300', '309900 kr'), ('2019', '42000', '349800 kr'), ('2009', '118000', '89900 kr'), ('1986', '69000', '119900 kr'), ('2009', '230000', '39900 kr'), ('2008', '140000', '27000 kr'), ('2016', '59000', '67700 kr'), ('2007', '174000', '13000 kr'), ('2020', '5000', '189900 kr'), ('2010', '158000', '50000 kr'), ('2014', '112000', '74900 kr'), ('2020', '4000', '279900 kr'), ('2004', '286000', '22900 kr'), ('2014', '', '42500 kr'), ('2008', '', '8900 kr'), ('2020', '13000', '299990 kr'), ('2020', '2000', '319900 kr'), ('2011', '60000', '49900 kr'), ('2011', '188000', '34800 kr'), ('2014', '117000', '84900 kr'), ('2009', '168000', '29900 kr'), ('2011', '165000', 'Ring for pris'), ('2004', '207000', '12000 kr'), ('2016', '64000', '94900 kr'), ('2015', '108000', '145000 kr'), ('2019', '27000', '324900 kr'), ('2013', '50000', '36400 kr'), ('2017', '64000', '234900 kr'), ('2009', '192000', '19900 kr'), ('2010', '67000', '35999 kr'), ('2007', '261000', '15000 kr'), ('2018', '65000', '129900 kr'), ('2014', '120000', '99900 kr'), ('2013', '109000', '89500 kr'), ('2005', '127000', '13000 kr'), ('2020', '6000', '419900 kr'), ('2006', '112000', '25000 kr'), ('2010', '132000', '24900 kr'), ('2018', '33000', '84900 kr'), ('2006', '376000', '9900 kr'), ('2012', '134000', '39900 kr'), ('2009', '229000', '18999 kr'), ('2012', '162000', '32900 kr'), ('2008', '370000', '17000 kr'), ('2016', '205000', '126200 kr'), ('2011', '137000', '22999 kr'), ('2003', '209000', '10000 kr'), ('2011', '234000', '49999 kr'), ('2008', '165200', '49900 kr'), ('2014', '95000', '61500 kr'), ('2008', '', '18000 kr'), ('2009', '95000', '33800 kr'), ('2014', '133000', '49900 kr'), ('2019', '15000', '139900 kr'), ('2019', '15000', '139900 kr'), ('2020', '14995', '379900 kr'), ('2014', '123000', '109980 kr'), ('2017', '93000', '144900 kr'), ('2008', '148000', '44900 kr'), ('2006', '193000', '19800 kr'), ('2012', '161000', '64900 kr'), ('1996', '29000', '35000 kr'), ('2007', '308000', '14500 kr'), ('2007', '260000', '19000 kr'), ('2015', '133000', '99900 kr'), ('2017', '82000', '99900 kr'), ('2018', '48000', '122995 kr'), ('2006', '330000', '6800 kr'), ('2011', '126000', '26900 kr'), ('2019', '19000', '277990 kr'), ('2010', '259000', '18900 kr'), ('2010', '192000', '16900 kr'), ('2011', '121000', '49900 kr'), ('1992', '245000', '65000 kr'), ('2004', '177000', '14900 kr')]\n"
     ]
    }
   ],
   "source": [
    "from selenium import webdriver\n",
    "import bs4\n",
    "import json\n",
    "from webdriver_manager.firefox import GeckoDriverManager\n",
    "from selenium.webdriver.support.ui import WebDriverWait\n",
    "from selenium.webdriver.support import expected_conditions as EC\n",
    "from selenium.webdriver.common.by import By\n",
    "\n",
    "url = 'https://www.dba.dk/biler/biler/maerke-peugeot/'\n",
    "def get_cars_selenium():\n",
    "    \n",
    "    browser = webdriver.Firefox(executable_path=GeckoDriverManager().install())\n",
    "    browser.get(url)\n",
    "    browser.implicitly_wait(2)\n",
    "    button = browser.find_element_by_id('onetrust-accept-btn-handler')\n",
    "    button.click()\n",
    "    \n",
    "    all_cars = []\n",
    "    \n",
    "    number_of_pages = browser.find_element_by_css_selector('.pagination > ul:nth-child(1) > li:nth-child(6) > a:nth-child(1)')\n",
    "    number_of_pages = int(str(number_of_pages.text).strip())\n",
    "    \n",
    "    for n in range(1,number_of_pages-90):\n",
    "        if(n != 1):\n",
    "            browser.get(url + 'side-' + str(n))\n",
    "            \n",
    "        \n",
    "        soup = bs4.BeautifulSoup(requests.get(browser.current_url, headers={'User-Agent': 'Mozilla/5.0'}).text, 'html.parser')\n",
    "        cell_count = soup.select(\"tr[class^=dbaListing]\")\n",
    "        print('fetching from ' + str(browser.current_url) + ', cell count:' + str(len(cell_count)))\n",
    "        browser.implicitly_wait(2)\n",
    "        browser.execute_script(\"window.scrollTo(0, document.body.scrollHeight);\")\n",
    "        \n",
    "        car_single_page = []\n",
    "        \n",
    "        for num in range(4, len(cell_count)+5):\n",
    "            try:\n",
    "                km = str(browser.find_element_by_css_selector('tr.dbaListing:nth-child(' + str(num) +') > td:nth-child(3)').text)\n",
    "                km = km.replace(\".\",\"\")\n",
    "                year = str(browser.find_element_by_css_selector('tr.dbaListing:nth-child(' + str(num) +') > td:nth-child(4)').text)\n",
    "                price = str(browser.find_element_by_css_selector('tr.dbaListing:nth-child(' + str(num) +') > td:nth-child(6) > a:nth-child(1)').text)\n",
    "                price = price.replace(\".\",\"\")\n",
    "                car_single_page.append((year, km, price))\n",
    "            except:\n",
    "                pass\n",
    "        #print(car_single_page)\n",
    "        all_cars += car_single_page\n",
    "    return all_cars\n",
    "\n",
    "total = get_cars_selenium()\n",
    "print(len(total))\n",
    "print(total)"
   ]
  }
 ],
 "metadata": {
  "kernelspec": {
   "display_name": "Python 3",
   "language": "python",
   "name": "python3"
  },
  "language_info": {
   "codemirror_mode": {
    "name": "ipython",
    "version": 3
   },
   "file_extension": ".py",
   "mimetype": "text/x-python",
   "name": "python",
   "nbconvert_exporter": "python",
   "pygments_lexer": "ipython3",
   "version": "3.9.1"
  }
 },
 "nbformat": 4,
 "nbformat_minor": 5
}
