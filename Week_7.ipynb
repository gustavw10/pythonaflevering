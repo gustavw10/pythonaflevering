{
 "cells": [
  {
   "cell_type": "markdown",
   "metadata": {},
   "source": [
    "## Exercise 1\n",
    "\n",
    "Åbn 'https://www.dba.dk/biler/'.\n",
    "Find ind alle biler med mærket: 'Peugeot' og gem dem."
   ]
  },
  {
   "cell_type": "code",
   "execution_count": 2,
   "metadata": {
    "scrolled": false
   },
   "outputs": [
    {
     "name": "stderr",
     "output_type": "stream",
     "text": [
      " 20%|██        | 1/5 [00:00<00:03,  1.18it/s]"
     ]
    },
    {
     "name": "stdout",
     "output_type": "stream",
     "text": [
      "41\n",
      "[('https://www.dba.dk/peugeot-308-diesel-2009-km/id-1078397400/', '2009', '198000', '33000'), ('https://www.dba.dk/peugeot-308-16-hdi-109/id-505603203/', '2009', '320000', '29800'), ('https://www.dba.dk/peugeot-206-14-hdi-comfort/id-1078621466/', '2009', '140000', '29999')]\n"
     ]
    },
    {
     "name": "stderr",
     "output_type": "stream",
     "text": [
      "\r",
      " 40%|████      | 2/5 [00:01<00:02,  1.17it/s]"
     ]
    },
    {
     "name": "stdout",
     "output_type": "stream",
     "text": [
      "21\n",
      "[('https://www.dba.dk/peugeot-207-16-vti-comfort/id-505595183/', '2009', '156000', '44900'), ('https://www.dba.dk/peugeot-308-20-hdi-136/id-505489630/', '2009', '230000', '39900'), ('https://www.dba.dk/peugeot-207-16-cc-benzin/id-505567226/', '2009', '120000', '84900')]\n"
     ]
    },
    {
     "name": "stderr",
     "output_type": "stream",
     "text": [
      "\r",
      " 60%|██████    | 3/5 [00:02<00:01,  1.17it/s]"
     ]
    },
    {
     "name": "stdout",
     "output_type": "stream",
     "text": [
      "21\n",
      "[('https://www.dba.dk/peugeot-207-16-hdi-xr-diesel/id-505116368/', '2009', '190000', '24999')]\n"
     ]
    },
    {
     "name": "stderr",
     "output_type": "stream",
     "text": [
      "\r",
      " 80%|████████  | 4/5 [00:03<00:00,  1.12it/s]"
     ]
    },
    {
     "name": "stdout",
     "output_type": "stream",
     "text": [
      "21\n",
      "[('https://www.dba.dk/peugeot-206-14-hdi-70/id-505602747/', '2009', '176000', '24900'), ('https://www.dba.dk/peugeot-3008-16-hdi-110/id-505602506/', '2009', '272000', '34900')]\n"
     ]
    },
    {
     "name": "stderr",
     "output_type": "stream",
     "text": [
      "100%|██████████| 5/5 [00:04<00:00,  1.13it/s]"
     ]
    },
    {
     "name": "stdout",
     "output_type": "stream",
     "text": [
      "21\n",
      "[('https://www.dba.dk/peugeot-207-16-hdi-90/id-505587500/', '2009', '193000', '21000')]\n",
      "10\n"
     ]
    },
    {
     "name": "stderr",
     "output_type": "stream",
     "text": [
      "\n"
     ]
    }
   ],
   "source": [
    "from tqdm import tqdm\n",
    "import bs4\n",
    "import requests\n",
    "import re\n",
    "    \n",
    "def scrape_for_cars(url, search_year_flag, year_to_filter_by):\n",
    "    \"\"\"\n",
    "    returns:\n",
    "        A list of tuples of strings with information about cars of the type Peugot\n",
    "    \"\"\"\n",
    "    \n",
    "    r = requests.get(url, headers={'User-Agent': 'Mozilla/5.0'})\n",
    "    r.raise_for_status()\n",
    "\n",
    "    soup = bs4.BeautifulSoup(r.text, 'html.parser')\n",
    "    event_cells = soup.select(\"tr[class^=dbaListing]\")\n",
    "    \n",
    "    scraped_cars_per_page = []\n",
    "    \n",
    "    print(len(event_cells))\n",
    "    \n",
    "    for event_cell in event_cells:\n",
    "        \n",
    "        to_find = re.compile(r'title=\"Modelår\">[\\r\\n]+([^\\r\\n]+)')\n",
    "        regex_car_year = to_find.search(str(event_cell))\n",
    "        \n",
    "        car_year = str(event_cell.select(\"td[title^=Modelår]\")[0].getText()).strip()\n",
    "        car_km = event_cell.select(\"td[title^=Km]\")[0].getText().strip()\n",
    "        car_km = car_km.replace(\".\", \"\")\n",
    "        car_price = event_cell.select(\"td[title^=Pris]\")[0].getText().strip()     \n",
    "        car_price = car_price[:-4]\n",
    "        car_price = car_price.replace(\".\",\"\")\n",
    "        \n",
    "        for link in event_cell.find_all('a'):\n",
    "            if not link.get('href').startswith('https'):\n",
    "                continue\n",
    "            car_link = link.get('href')\n",
    "        \n",
    "        if(search_year_flag):       \n",
    "            if(str(regex_car_year.group(1)).strip() == str(year_to_filter_by)):\n",
    "                scraped_cars_per_page.append((car_link, car_year, car_km, car_price))\n",
    "        else:\n",
    "            scraped_cars_per_page.append((car_link, car_year, car_km, car_price))\n",
    "    \n",
    "    print(scraped_cars_per_page)\n",
    "              \n",
    "    return scraped_cars_per_page\n",
    "\n",
    "\n",
    "scraped_total_cars = []\n",
    "\n",
    "indexes = range(1, 6)\n",
    "search_year_flag = True\n",
    "year_to_filter_by = 2009\n",
    "\n",
    "for idx in tqdm(indexes):\n",
    "    if idx == 0:\n",
    "        url=\"https://www.dba.dk/biler/biler/maerke-peugeot/\"\n",
    "    else:\n",
    "        url = \"https://www.dba.dk/biler/biler/maerke-peugeot/side-{}/\".format(idx)\n",
    "        \n",
    "    scraped_total_cars += scrape_for_cars(url, search_year_flag, year_to_filter_by)\n",
    "    \n",
    "print(len(scraped_total_cars))"
   ]
  },
  {
   "cell_type": "markdown",
   "metadata": {},
   "source": [
    "## Exercise 2\n",
    "Brug Regular Expressions til at sortere de fundne biler på år 2009."
   ]
  },
  {
   "cell_type": "code",
   "execution_count": null,
   "metadata": {},
   "outputs": [],
   "source": [
    "#Der er implementeret en løsning hvor den leder efter year_to_filter_by hvis search_year_flag er sat til True"
   ]
  },
  {
   "cell_type": "markdown",
   "metadata": {},
   "source": [
    "## Exercise 3\n",
    "Brug Selenium til at tilgå de samme punkter som i forrige opgaver, og vælge den dyreste bil.\n",
    "Brug BeautifulSoup til at printe bilbeskrivelsen ud."
   ]
  },
  {
   "cell_type": "code",
   "execution_count": 1,
   "metadata": {
    "scrolled": false
   },
   "outputs": [
    {
     "ename": "ModuleNotFoundError",
     "evalue": "No module named 'webdriver_manager'",
     "output_type": "error",
     "traceback": [
      "\u001b[0;31m---------------------------------------------------------------------------\u001b[0m",
      "\u001b[0;31mModuleNotFoundError\u001b[0m                       Traceback (most recent call last)",
      "\u001b[0;32m<ipython-input-1-3452cd6fda0e>\u001b[0m in \u001b[0;36m<module>\u001b[0;34m\u001b[0m\n\u001b[1;32m      2\u001b[0m \u001b[0;32mimport\u001b[0m \u001b[0mbs4\u001b[0m\u001b[0;34m\u001b[0m\u001b[0;34m\u001b[0m\u001b[0m\n\u001b[1;32m      3\u001b[0m \u001b[0;32mimport\u001b[0m \u001b[0mjson\u001b[0m\u001b[0;34m\u001b[0m\u001b[0;34m\u001b[0m\u001b[0m\n\u001b[0;32m----> 4\u001b[0;31m \u001b[0;32mfrom\u001b[0m \u001b[0mwebdriver_manager\u001b[0m\u001b[0;34m.\u001b[0m\u001b[0mfirefox\u001b[0m \u001b[0;32mimport\u001b[0m \u001b[0mGeckoDriverManager\u001b[0m\u001b[0;34m\u001b[0m\u001b[0;34m\u001b[0m\u001b[0m\n\u001b[0m\u001b[1;32m      5\u001b[0m \u001b[0;32mfrom\u001b[0m \u001b[0mselenium\u001b[0m\u001b[0;34m.\u001b[0m\u001b[0mwebdriver\u001b[0m\u001b[0;34m.\u001b[0m\u001b[0msupport\u001b[0m\u001b[0;34m.\u001b[0m\u001b[0mui\u001b[0m \u001b[0;32mimport\u001b[0m \u001b[0mWebDriverWait\u001b[0m\u001b[0;34m\u001b[0m\u001b[0;34m\u001b[0m\u001b[0m\n\u001b[1;32m      6\u001b[0m \u001b[0;32mfrom\u001b[0m \u001b[0mselenium\u001b[0m\u001b[0;34m.\u001b[0m\u001b[0mwebdriver\u001b[0m\u001b[0;34m.\u001b[0m\u001b[0msupport\u001b[0m \u001b[0;32mimport\u001b[0m \u001b[0mexpected_conditions\u001b[0m \u001b[0;32mas\u001b[0m \u001b[0mEC\u001b[0m\u001b[0;34m\u001b[0m\u001b[0;34m\u001b[0m\u001b[0m\n",
      "\u001b[0;31mModuleNotFoundError\u001b[0m: No module named 'webdriver_manager'"
     ]
    }
   ],
   "source": [
    "from selenium import webdriver\n",
    "import bs4\n",
    "import json\n",
    "from webdriver_manager.firefox import GeckoDriverManager\n",
    "\n",
    "from selenium.webdriver.support import expected_conditions as EC\n",
    "from selenium.webdriver.common.by import By\n",
    "\n",
    "url = 'https://www.dba.dk/biler/biler/maerke-peugeot/'\n",
    "def get_cars_selenium():\n",
    "    \n",
    "    browser = webdriver.Firefox(executable_path=GeckoDriverManager().install())\n",
    "    browser.get(url)\n",
    "    browser.implicitly_wait(2)\n",
    "    button = browser.find_element_by_id('onetrust-accept-btn-handler')\n",
    "    button.click()\n",
    "    \n",
    "    all_cars = []\n",
    "    \n",
    "    number_of_pages = browser.find_element_by_css_selector('.pagination > ul:nth-child(1) > li:nth-child(6) > a:nth-child(1)')\n",
    "    number_of_pages = int(str(number_of_pages.text).strip())\n",
    "    \n",
    "    for n in range(1,number_of_pages-90):\n",
    "        if(n != 1):\n",
    "            browser.get(url + 'side-' + str(n))\n",
    "            \n",
    "        \n",
    "        soup = bs4.BeautifulSoup(requests.get(browser.current_url, headers={'User-Agent': 'Mozilla/5.0'}).text, 'html.parser')\n",
    "        cell_count = soup.select(\"tr[class^=dbaListing]\")\n",
    "        print('fetching from ' + str(browser.current_url) + ', cell count:' + str(len(cell_count)))\n",
    "        browser.implicitly_wait(2)\n",
    "        browser.execute_script(\"window.scrollTo(0, document.body.scrollHeight);\")\n",
    "        \n",
    "        car_single_page = []\n",
    "        \n",
    "        for num in range(4, len(cell_count)+5):\n",
    "            try:\n",
    "                km = str(browser.find_element_by_css_selector('tr.dbaListing:nth-child(' + str(num) +') > td:nth-child(3)').text)\n",
    "                km = km.replace(\".\",\"\")\n",
    "                year = str(browser.find_element_by_css_selector('tr.dbaListing:nth-child(' + str(num) +') > td:nth-child(4)').text)\n",
    "                price = str(browser.find_element_by_css_selector('tr.dbaListing:nth-child(' + str(num) +') > td:nth-child(6) > a:nth-child(1)').text)\n",
    "                price = price.replace(\".\",\"\")\n",
    "                car_single_page.append((year, km, price))\n",
    "            except:\n",
    "                pass\n",
    "        #print(car_single_page)\n",
    "        all_cars += car_single_page\n",
    "    return all_cars\n",
    "\n",
    "total = get_cars_selenium()\n",
    "print(len(total))\n",
    "print(total)"
   ]
  }
 ],
 "metadata": {
  "kernelspec": {
   "display_name": "Python 3",
   "language": "python",
   "name": "python3"
  },
  "language_info": {
   "codemirror_mode": {
    "name": "ipython",
    "version": 3
   },
   "file_extension": ".py",
   "mimetype": "text/x-python",
   "name": "python",
   "nbconvert_exporter": "python",
   "pygments_lexer": "ipython3",
   "version": "3.7.6"
  }
 },
 "nbformat": 4,
 "nbformat_minor": 5
}
