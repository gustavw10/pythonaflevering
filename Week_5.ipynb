{
 "cells": [
  {
   "cell_type": "markdown",
   "metadata": {},
   "source": [
    "# Week 5 handin"
   ]
  },
  {
   "cell_type": "markdown",
   "metadata": {},
   "source": [
    "## 01 Assignment\n",
    "Here is the text for the assignment linked to"
   ]
  },
  {
   "cell_type": "markdown",
   "metadata": {},
   "source": [
    "## 02 Status\n",
    "Alle opgaverne undtagen de ekstra er løst"
   ]
  },
  {
   "cell_type": "markdown",
   "metadata": {},
   "source": [
    "## 03 Solution part 1"
   ]
  },
  {
   "cell_type": "code",
   "execution_count": 1,
   "metadata": {},
   "outputs": [
    {
     "data": {
      "text/html": [
       "<div>\n",
       "<style scoped>\n",
       "    .dataframe tbody tr th:only-of-type {\n",
       "        vertical-align: middle;\n",
       "    }\n",
       "\n",
       "    .dataframe tbody tr th {\n",
       "        vertical-align: top;\n",
       "    }\n",
       "\n",
       "    .dataframe thead th {\n",
       "        text-align: right;\n",
       "    }\n",
       "</style>\n",
       "<table border=\"1\" class=\"dataframe\">\n",
       "  <thead>\n",
       "    <tr style=\"text-align: right;\">\n",
       "      <th></th>\n",
       "      <th>OMRÅDE</th>\n",
       "      <th>KØN</th>\n",
       "      <th>CIVILSTAND</th>\n",
       "      <th>TID</th>\n",
       "      <th>INDHOLD</th>\n",
       "    </tr>\n",
       "  </thead>\n",
       "  <tbody>\n",
       "    <tr>\n",
       "      <th>0</th>\n",
       "      <td>All Denmark</td>\n",
       "      <td>Total</td>\n",
       "      <td>Total</td>\n",
       "      <td>2008Q1</td>\n",
       "      <td>5475791</td>\n",
       "    </tr>\n",
       "    <tr>\n",
       "      <th>1</th>\n",
       "      <td>All Denmark</td>\n",
       "      <td>Total</td>\n",
       "      <td>Total</td>\n",
       "      <td>2008Q2</td>\n",
       "      <td>5482266</td>\n",
       "    </tr>\n",
       "    <tr>\n",
       "      <th>2</th>\n",
       "      <td>All Denmark</td>\n",
       "      <td>Total</td>\n",
       "      <td>Total</td>\n",
       "      <td>2008Q3</td>\n",
       "      <td>5489022</td>\n",
       "    </tr>\n",
       "    <tr>\n",
       "      <th>3</th>\n",
       "      <td>All Denmark</td>\n",
       "      <td>Total</td>\n",
       "      <td>Total</td>\n",
       "      <td>2008Q4</td>\n",
       "      <td>5505995</td>\n",
       "    </tr>\n",
       "    <tr>\n",
       "      <th>4</th>\n",
       "      <td>All Denmark</td>\n",
       "      <td>Total</td>\n",
       "      <td>Total</td>\n",
       "      <td>2020Q1</td>\n",
       "      <td>5822763</td>\n",
       "    </tr>\n",
       "    <tr>\n",
       "      <th>...</th>\n",
       "      <td>...</td>\n",
       "      <td>...</td>\n",
       "      <td>...</td>\n",
       "      <td>...</td>\n",
       "      <td>...</td>\n",
       "    </tr>\n",
       "    <tr>\n",
       "      <th>115</th>\n",
       "      <td>All Denmark</td>\n",
       "      <td>Women</td>\n",
       "      <td>Divorced</td>\n",
       "      <td>2008Q4</td>\n",
       "      <td>244465</td>\n",
       "    </tr>\n",
       "    <tr>\n",
       "      <th>116</th>\n",
       "      <td>All Denmark</td>\n",
       "      <td>Women</td>\n",
       "      <td>Divorced</td>\n",
       "      <td>2020Q1</td>\n",
       "      <td>308456</td>\n",
       "    </tr>\n",
       "    <tr>\n",
       "      <th>117</th>\n",
       "      <td>All Denmark</td>\n",
       "      <td>Women</td>\n",
       "      <td>Divorced</td>\n",
       "      <td>2020Q2</td>\n",
       "      <td>310351</td>\n",
       "    </tr>\n",
       "    <tr>\n",
       "      <th>118</th>\n",
       "      <td>All Denmark</td>\n",
       "      <td>Women</td>\n",
       "      <td>Divorced</td>\n",
       "      <td>2020Q3</td>\n",
       "      <td>311694</td>\n",
       "    </tr>\n",
       "    <tr>\n",
       "      <th>119</th>\n",
       "      <td>All Denmark</td>\n",
       "      <td>Women</td>\n",
       "      <td>Divorced</td>\n",
       "      <td>2020Q4</td>\n",
       "      <td>312735</td>\n",
       "    </tr>\n",
       "  </tbody>\n",
       "</table>\n",
       "<p>120 rows × 5 columns</p>\n",
       "</div>"
      ],
      "text/plain": [
       "          OMRÅDE    KØN CIVILSTAND     TID  INDHOLD\n",
       "0    All Denmark  Total      Total  2008Q1  5475791\n",
       "1    All Denmark  Total      Total  2008Q2  5482266\n",
       "2    All Denmark  Total      Total  2008Q3  5489022\n",
       "3    All Denmark  Total      Total  2008Q4  5505995\n",
       "4    All Denmark  Total      Total  2020Q1  5822763\n",
       "..           ...    ...        ...     ...      ...\n",
       "115  All Denmark  Women   Divorced  2008Q4   244465\n",
       "116  All Denmark  Women   Divorced  2020Q1   308456\n",
       "117  All Denmark  Women   Divorced  2020Q2   310351\n",
       "118  All Denmark  Women   Divorced  2020Q3   311694\n",
       "119  All Denmark  Women   Divorced  2020Q4   312735\n",
       "\n",
       "[120 rows x 5 columns]"
      ]
     },
     "execution_count": 1,
     "metadata": {},
     "output_type": "execute_result"
    }
   ],
   "source": [
    "#1.1, 1.2, 1.3\n",
    "import pandas as pd\n",
    "import requests\n",
    "\n",
    "url = 'https://api.statbank.dk/v1/data/FOLK1A/CSV?lang=en&delimiter=Semicolon&OMR%C3%85DE=000&K%C3%98N=TOT%2C1%2C2&CIVILSTAND=*&Tid=2008K1%2C2008K2%2C2008K3%2C2008K4%2C2020K1%2C2020K2%2C2020K3%2C2020K4'\n",
    "data = pd.read_csv(url,sep=';')\n",
    "\n",
    "data"
   ]
  },
  {
   "cell_type": "code",
   "execution_count": 2,
   "metadata": {},
   "outputs": [
    {
     "data": {
      "text/plain": [
       "<BarContainer object of 2 artists>"
      ]
     },
     "execution_count": 2,
     "metadata": {},
     "output_type": "execute_result"
    },
    {
     "data": {
      "image/png": "[encoded data removed]",
      "text/plain": [
       "<Figure size 432x288 with 1 Axes>"
      ]
     },
     "metadata": {
      "needs_background": "light"
     },
     "output_type": "display_data"
    }
   ],
   "source": [
    "#1.5a What is the change in pct of divorced danes from 2008 to 2020\n",
    "\n",
    "url = 'https://api.statbank.dk/v1/data/FOLK1A/CSV?lang=en&delimiter=Semicolon&OMR%C3%85DE=000&K%C3%98N=TOT%2C1%2C2&CIVILSTAND=*&Tid=2008K1%2C2008K2%2C2008K3%2C2008K4%2C2020K1%2C2020K2%2C2020K3%2C2020K4'\n",
    "df = pd.read_csv(url, sep=';')\n",
    "\n",
    "ts_dk = df.loc[df['KØN']=='Total']\n",
    "ts_2008 = ts_dk[ts_dk['TID']=='2008Q4']\n",
    "ts_2020 = ts_dk[ts_dk['TID']=='2020Q4']\n",
    "\n",
    "di = {'2008': (list(ts_2008.iloc[4])[4] / list(ts_2008.iloc[0])[4]) * 100, '2020': (list(ts_2020.iloc[4])[4] / list(ts_2020.iloc[0])[4]) * 100}\n",
    "import matplotlib.pyplot as plt\n",
    "x = list(di.keys())\n",
    "y = list(di.values())\n",
    "plt.figure()\n",
    "plt.ylabel(\"% of population who is divorced\", fontsize=10)\n",
    "plt.xlabel(\"Year\", fontsize=10)\n",
    "plt.bar(x, y)\n",
    "\n"
   ]
  },
  {
   "cell_type": "code",
   "execution_count": 3,
   "metadata": {},
   "outputs": [
    {
     "name": "stdout",
     "output_type": "stream",
     "text": [
      "          OMRÅDE  Unmarriaged %\n",
      "0     Copenhagen      65.489642\n",
      "1         Aarhus      59.942282\n",
      "2         Odense      55.196448\n",
      "3        Aalborg      54.820118\n",
      "4  Frederiksberg      58.475721\n"
     ]
    },
    {
     "data": {
      "text/plain": [
       "<BarContainer object of 5 artists>"
      ]
     },
     "execution_count": 3,
     "metadata": {},
     "output_type": "execute_result"
    },
    {
     "data": {
      "image/png": "[encoded data removed]",
      "text/plain": [
       "<Figure size 432x288 with 1 Axes>"
      ]
     },
     "metadata": {
      "needs_background": "light"
     },
     "output_type": "display_data"
    }
   ],
   "source": [
    "#1.5b Which of the 5 biggest cities has the highest percentage of 'Never Married' in 2020?\n",
    "\n",
    "li_url = 'https://api.statbank.dk/v1/data/FOLK1A/CSV?lang=en&delimiter=Semicolon&OMR%C3%85DE=101%2C751%2C461%2C851%2C147&K%C3%98N=TOT&CIVILSTAND=TOT%2CU&Tid=2020K4'\n",
    "df_opgave_to = pd.read_csv(li_url, sep=\";\")\n",
    "\n",
    "df_tot = df_opgave_to.loc[df_opgave_to['CIVILSTAND']=='Total']\n",
    "df_unmarried = df_opgave_to.loc[df_opgave_to['CIVILSTAND']=='Never married']\n",
    "\n",
    "df_fin = pd.merge(df_tot, df_unmarried, left_on='OMRÅDE', right_on='OMRÅDE')\n",
    "df_fin['Unmarriaged %'] = ((df_fin['INDHOLD_y'] / df_fin['INDHOLD_x']) * 100)\n",
    "df_fin = df_fin.drop(['INDHOLD_x', 'INDHOLD_y', 'TID_y', 'TID_x', 'KØN_y', 'CIVILSTAND_y', 'KØN_x', 'CIVILSTAND_x'], axis=1)\n",
    "\n",
    "print(df_fin)\n",
    "\n",
    "x = df_fin['OMRÅDE']\n",
    "y = df_fin['Unmarriaged %']\n",
    "plt.figure()\n",
    "plt.ylabel(\"Unmarriaged %\", fontsize=10)\n",
    "plt.xlabel(\"City\", fontsize=10)\n",
    "plt.bar(x, y)"
   ]
  },
  {
   "cell_type": "code",
   "execution_count": 5,
   "metadata": {},
   "outputs": [
    {
     "data": {
      "text/plain": [
       "([0, 1, 2, 3, 4, 5, 6, 7, 8, 9, 10, 11, 12],\n",
       " <a list of 13 Text major ticklabel objects>)"
      ]
     },
     "execution_count": 5,
     "metadata": {},
     "output_type": "execute_result"
    },
    {
     "data": {
      "image/png": "[encoded data removed]",
      "text/plain": [
       "<Figure size 432x288 with 1 Axes>"
      ]
     },
     "metadata": {
      "needs_background": "light"
     },
     "output_type": "display_data"
    }
   ],
   "source": [
    "#1.5c Show a bar chart of changes in marrital status in Copenhagen from 2008 till now\n",
    "\n",
    "li_third_url = 'https://api.statbank.dk/v1/data/FOLK1A/CSV?lang=en&delimiter=Semicolon&OMR%C3%85DE=101&K%C3%98N=TOT&CIVILSTAND=TOT%2CG&Tid=2008K4%2C2009K4%2C2010K4%2C2011K4%2C2012K4%2C2013K4%2C2014K4%2C2015K4%2C2016K4%2C2017K4%2C2018K4%2C2019K4%2C2020K4'\n",
    "df_third = pd.read_csv(li_third_url, sep=\";\")\n",
    "\n",
    "df_tot = df_third.loc[df_third['CIVILSTAND']=='Total']\n",
    "df_married = df_third.loc[df_third['CIVILSTAND']=='Married/separated']\n",
    "\n",
    "df_third_fin = pd.merge(df_tot, df_married, left_on='TID', right_on='TID')\n",
    "df_third_fin['Marriage %'] = ((df_third_fin['INDHOLD_y'] / df_third_fin['INDHOLD_x']) * 100)\n",
    "df_third_fin = df_third_fin.drop(['OMRÅDE_x', 'KØN_x', 'CIVILSTAND_x', 'OMRÅDE_y', 'KØN_y', 'CIVILSTAND_y', 'KØN_x', 'CIVILSTAND_x'], axis=1)\n",
    "\n",
    "x = df_third_fin['TID']\n",
    "y = df_third_fin['Marriage %']\n",
    "\n",
    "plt.figure()\n",
    "plt.ylabel(\"Marriage %\", fontsize=10)\n",
    "plt.xlabel(\"Period\", fontsize=10)\n",
    "plt.bar(x, y)\n",
    "plt.xticks(rotation=45, horizontalalignment='right',fontweight='light')"
   ]
  }
 ],
 "metadata": {
  "kernelspec": {
   "display_name": "Python 3",
   "language": "python",
   "name": "python3"
  },
  "language_info": {
   "codemirror_mode": {
    "name": "ipython",
    "version": 3
   },
   "file_extension": ".py",
   "mimetype": "text/x-python",
   "name": "python",
   "nbconvert_exporter": "python",
   "pygments_lexer": "ipython3",
   "version": "3.7.6"
  }
 },
 "nbformat": 4,
 "nbformat_minor": 4
}
